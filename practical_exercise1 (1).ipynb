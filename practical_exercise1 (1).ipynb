{
  "nbformat": 4,
  "nbformat_minor": 0,
  "metadata": {
    "colab": {
      "provenance": []
    },
    "kernelspec": {
      "name": "python3",
      "display_name": "Python 3"
    },
    "language_info": {
      "name": "python"
    }
  },
  "cells": [
    {
      "cell_type": "code",
      "source": [
        "fav_number = 19\n",
        "if fav_number < 15:\n",
        "  print(\"mine is smaller\")\n",
        "else:\n",
        "  print(\"mine is bigger\")"
      ],
      "metadata": {
        "colab": {
          "base_uri": "https://localhost:8080/"
        },
        "id": "GKq35dNfsvJ0",
        "outputId": "773f758f-34c6-41e9-e593-811796d168f2"
      },
      "execution_count": null,
      "outputs": [
        {
          "output_type": "stream",
          "name": "stdout",
          "text": [
            "mine is bigger\n"
          ]
        }
      ]
    },
    {
      "cell_type": "code",
      "source": [
        "APPLE = 12\n",
        "print(APPLE)"
      ],
      "metadata": {
        "colab": {
          "base_uri": "https://localhost:8080/"
        },
        "id": "FzjixzhstFEC",
        "outputId": "d844547c-d94b-4afa-c2f3-23154b80885c"
      },
      "execution_count": null,
      "outputs": [
        {
          "output_type": "stream",
          "name": "stdout",
          "text": [
            "12\n"
          ]
        }
      ]
    },
    {
      "cell_type": "code",
      "source": [
        "for_int = 1748\n",
        "print(for_int)"
      ],
      "metadata": {
        "colab": {
          "base_uri": "https://localhost:8080/"
        },
        "id": "6YQ_oxAItOGh",
        "outputId": "7a1fbe2d-9e69-4e2d-c6dc-03e06bbf3000"
      },
      "execution_count": null,
      "outputs": [
        {
          "output_type": "stream",
          "name": "stdout",
          "text": [
            "1748\n"
          ]
        }
      ]
    },
    {
      "cell_type": "code",
      "source": [
        "for i in range(7):\n",
        "  print(\"its still rising ->\", i)"
      ],
      "metadata": {
        "colab": {
          "base_uri": "https://localhost:8080/"
        },
        "id": "VmOLoFqvvJvx",
        "outputId": "ddf85863-1c53-444f-c4ec-24a07487840f"
      },
      "execution_count": null,
      "outputs": [
        {
          "output_type": "stream",
          "name": "stdout",
          "text": [
            "its still rising -> 0\n",
            "its still rising -> 1\n",
            "its still rising -> 2\n",
            "its still rising -> 3\n",
            "its still rising -> 4\n",
            "its still rising -> 5\n",
            "its still rising -> 6\n"
          ]
        }
      ]
    },
    {
      "cell_type": "code",
      "source": [
        "hello = \"recep\"\n",
        "for i in range(8):\n",
        "  print(\"its still rising ->\", hello, i)"
      ],
      "metadata": {
        "colab": {
          "base_uri": "https://localhost:8080/"
        },
        "id": "uLxTLkI_vhiE",
        "outputId": "e40d5b6f-0e73-437e-eb73-815ca6fbfd31"
      },
      "execution_count": null,
      "outputs": [
        {
          "output_type": "stream",
          "name": "stdout",
          "text": [
            "its still rising -> recep 0\n",
            "its still rising -> recep 1\n",
            "its still rising -> recep 2\n",
            "its still rising -> recep 3\n",
            "its still rising -> recep 4\n",
            "its still rising -> recep 5\n",
            "its still rising -> recep 6\n",
            "its still rising -> recep 7\n"
          ]
        }
      ]
    },
    {
      "cell_type": "code",
      "source": [
        "def greeting (name):\n",
        "\n",
        "  print(f\"{name}'i gördüm\")\n",
        "  print(\"Naber \" + name)\n",
        "\n",
        "greeting(\"Alice\")\n",
        "greeting(\"recep\")\n"
      ],
      "metadata": {
        "colab": {
          "base_uri": "https://localhost:8080/"
        },
        "id": "V5eB0DlQ7x4R",
        "outputId": "7814b8a4-08e4-46c4-8680-a107aa3599fe"
      },
      "execution_count": null,
      "outputs": [
        {
          "output_type": "stream",
          "name": "stdout",
          "text": [
            "Alice'i gördüm\n",
            "Naber Alice\n",
            "recep'i gördüm\n",
            "Naber recep\n"
          ]
        }
      ]
    },
    {
      "cell_type": "code",
      "source": [
        "jahre = 19\n",
        "#jahre\n",
        "print(type(jahre))\n",
        "type(jahre)"
      ],
      "metadata": {
        "colab": {
          "base_uri": "https://localhost:8080/"
        },
        "id": "1nu9u9AH96d2",
        "outputId": "0dc69335-72a8-4fe1-a2cf-2b8108b7ae53"
      },
      "execution_count": null,
      "outputs": [
        {
          "output_type": "stream",
          "name": "stdout",
          "text": [
            "<class 'int'>\n"
          ]
        },
        {
          "output_type": "execute_result",
          "data": {
            "text/plain": [
              "19"
            ]
          },
          "metadata": {},
          "execution_count": 91
        }
      ]
    },
    {
      "cell_type": "code",
      "source": [
        "namen = 'bahar'\n",
        "#namen\n",
        "print(type(namen))\n",
        "type(namen)"
      ],
      "metadata": {
        "colab": {
          "base_uri": "https://localhost:8080/"
        },
        "id": "ihKLw7dH_qVd",
        "outputId": "129e550b-b39b-4474-d4da-3d0837ef1e1a"
      },
      "execution_count": null,
      "outputs": [
        {
          "output_type": "stream",
          "name": "stdout",
          "text": [
            "<class 'str'>\n"
          ]
        },
        {
          "output_type": "execute_result",
          "data": {
            "text/plain": [
              "str"
            ]
          },
          "metadata": {},
          "execution_count": 92
        }
      ]
    },
    {
      "cell_type": "code",
      "source": [
        "learning_items = ['banana', 1.15, 19, 'kamasutra', 69, 'facesitting']\n",
        "print(type(learning_items))\n",
        "print(learning_items[3])\n",
        "print(learning_items[4])\n",
        "print(learning_items[5])\n",
        "print(learning_items[0:3])\n",
        "print(learning_items[0:])\n",
        "print(learning_items[:3])"
      ],
      "metadata": {
        "colab": {
          "base_uri": "https://localhost:8080/"
        },
        "id": "kHq9ySuRA_9K",
        "outputId": "61cd48d1-ac0e-4777-d46a-9f1534157830"
      },
      "execution_count": null,
      "outputs": [
        {
          "output_type": "stream",
          "name": "stdout",
          "text": [
            "<class 'list'>\n",
            "kamasutra\n",
            "69\n",
            "facesitting\n",
            "['banana', 1.15, 19]\n",
            "['banana', 1.15, 19, 'kamasutra', 69, 'facesitting']\n",
            "['banana', 1.15, 19]\n"
          ]
        }
      ]
    },
    {
      "cell_type": "code",
      "source": [
        "learning_items[1] = 31.52\n",
        "print(learning_items[1])\n",
        "learning_items[1] = learning_items[5]\n",
        "print(learning_items[1])"
      ],
      "metadata": {
        "colab": {
          "base_uri": "https://localhost:8080/"
        },
        "id": "h2Ild-u3CiJE",
        "outputId": "adb13891-54e4-4bd1-f9af-6d880849480b"
      },
      "execution_count": null,
      "outputs": [
        {
          "output_type": "stream",
          "name": "stdout",
          "text": [
            "31.52\n",
            "facesitting\n"
          ]
        }
      ]
    },
    {
      "cell_type": "code",
      "source": [
        "age = 19.8\n",
        "age += 11.2\n",
        "print(age, type(age))"
      ],
      "metadata": {
        "colab": {
          "base_uri": "https://localhost:8080/"
        },
        "id": "ddobo-hEDLR5",
        "outputId": "2454c1d7-6c2f-4478-d1bc-47ec8ac184bd"
      },
      "execution_count": null,
      "outputs": [
        {
          "output_type": "stream",
          "name": "stdout",
          "text": [
            "31.0 <class 'float'>\n"
          ]
        }
      ]
    },
    {
      "cell_type": "code",
      "source": [
        "age = '19'\n",
        "print(type(age))\n",
        "age = int(age)\n",
        "# print(type(age))"
      ],
      "metadata": {
        "colab": {
          "base_uri": "https://localhost:8080/"
        },
        "id": "sXCLTOpbDmBJ",
        "outputId": "fdd358f8-10fb-4e47-8a64-3b0e597b2802"
      },
      "execution_count": null,
      "outputs": [
        {
          "output_type": "stream",
          "name": "stdout",
          "text": [
            "<class 'str'>\n",
            "<class 'int'>\n"
          ]
        }
      ]
    },
    {
      "cell_type": "code",
      "source": [
        "name = input('Name:')\n",
        "print('Greetings', name)"
      ],
      "metadata": {
        "colab": {
          "base_uri": "https://localhost:8080/"
        },
        "id": "s9__Sl4XLZMP",
        "outputId": "f189a582-1111-406a-aa7e-3321e6397899"
      },
      "execution_count": null,
      "outputs": [
        {
          "output_type": "stream",
          "name": "stdout",
          "text": [
            "Name:reepNao\n",
            "Greetings reepNao\n"
          ]
        }
      ]
    },
    {
      "cell_type": "code",
      "source": [
        "number = input(\"Number: \")\n",
        "print(number + 10)"
      ],
      "metadata": {
        "id": "D_4Jd_vILxog"
      },
      "execution_count": null,
      "outputs": []
    },
    {
      "cell_type": "code",
      "source": [
        "number = int(input(\"Number: \"))\n",
        "print(number + 10)"
      ],
      "metadata": {
        "colab": {
          "base_uri": "https://localhost:8080/"
        },
        "id": "nG94ZP99LyOR",
        "outputId": "396d5d83-6986-4ac5-b2b9-c6278d7f2b17"
      },
      "execution_count": null,
      "outputs": [
        {
          "output_type": "stream",
          "name": "stdout",
          "text": [
            "Number: 44\n",
            "54\n"
          ]
        }
      ]
    },
    {
      "cell_type": "code",
      "source": [
        "import math\n",
        "floor_number = (math.floor(3.45))\n",
        "print(floor_number, type(floor_number))"
      ],
      "metadata": {
        "colab": {
          "base_uri": "https://localhost:8080/"
        },
        "id": "Cw2o-LQQSGh_",
        "outputId": "4e21d15b-6be7-4b91-d55e-9f18de3ad2ae"
      },
      "execution_count": null,
      "outputs": [
        {
          "output_type": "stream",
          "name": "stdout",
          "text": [
            "3 <class 'int'>\n"
          ]
        }
      ]
    },
    {
      "cell_type": "code",
      "source": [
        "import datetime\n",
        "\n",
        "print(datetime.datetime.now())"
      ],
      "metadata": {
        "id": "tBTFhatlSHtS"
      },
      "execution_count": null,
      "outputs": []
    },
    {
      "cell_type": "code",
      "source": [
        "import random\n",
        "\n",
        "print(random.randint(1,6))"
      ],
      "metadata": {
        "id": "28yyRSRFSI3v"
      },
      "execution_count": null,
      "outputs": []
    },
    {
      "cell_type": "code",
      "source": [
        "print(2 + 5)"
      ],
      "metadata": {
        "id": "SCsbwtZKT0GF"
      },
      "execution_count": null,
      "outputs": []
    },
    {
      "cell_type": "code",
      "source": [
        "print(\"5 + 2 =\", 5+2)\n",
        "print(\"5 - 2 =\", 5-2)\n",
        "print(\"5 * 2 =\", 5*2)\n",
        "print(\"5 / 2 =\", 5/2)\n",
        "print(\"5 // 2 =\", 5//2)\n",
        "print(\"5 ** 2 =\", 5**2)\n",
        "print(\"5 % 2 =\", 5%2)"
      ],
      "metadata": {
        "id": "SLIdPE1aT0bj"
      },
      "execution_count": null,
      "outputs": []
    },
    {
      "cell_type": "code",
      "source": [
        "x = 5 # equivalent to x = 5\n",
        "x += 5 # equivalent to x = x + 5\n",
        "x -= 5 # equivalent to x = x - 5\n",
        "x *= 5 # equivalent to x = x * 5\n",
        "x /= 5 # equivalent to x = x / 5\n",
        "x %= 5 # equivalent to x = x % 5\n",
        "x //= 5 # equivalent to x = x // 5\n",
        "x **= 5 # equivalent to x = x ** 5"
      ],
      "metadata": {
        "id": "QSflgvW6T0kc"
      },
      "execution_count": null,
      "outputs": []
    },
    {
      "cell_type": "code",
      "source": [
        "num1 = 10\n",
        "num2 = 5\n",
        "\n",
        "print(num1, \">\", num2, \"=\", num1 > num2)\n",
        "print(num1, \">=\", num2, \"=\", num1 >= num2)\n",
        "print(num1, \"<\", num2, \"=\", num1 < num2)\n",
        "print(num1, \"<=\", num2, \"=\", num1 <= num2)\n",
        "print(num1, \"==\", num2, \"=\", num1 == num2)\n",
        "print(num1, \"!=\", num2, \"=\", num1 != num2)"
      ],
      "metadata": {
        "colab": {
          "base_uri": "https://localhost:8080/"
        },
        "id": "gXTBEtSgT0tg",
        "outputId": "e306fe48-9e1b-48f3-ee71-b0f382fef25a"
      },
      "execution_count": null,
      "outputs": [
        {
          "output_type": "stream",
          "name": "stdout",
          "text": [
            "10 > 5 = True\n",
            "10 >= 5 = True\n",
            "10 < 5 = False\n",
            "10 <= 5 = False\n",
            "10 == 5 = False\n",
            "10 != 5 = True\n"
          ]
        }
      ]
    },
    {
      "cell_type": "code",
      "source": [
        "print(\"True and True =\", True and True)\n",
        "print(\"True and False =\", True and False)\n",
        "print(\"False and True =\", False and True)\n",
        "print(\"False and False =\", False and False)"
      ],
      "metadata": {
        "colab": {
          "base_uri": "https://localhost:8080/"
        },
        "id": "eeOpxzANT02Z",
        "outputId": "39322bfc-bfbc-48a2-f79b-148c41787e8b"
      },
      "execution_count": null,
      "outputs": [
        {
          "output_type": "stream",
          "name": "stdout",
          "text": [
            "True and True = True\n",
            "True and False = False\n",
            "False and True = False\n",
            "False and False = False\n"
          ]
        }
      ]
    },
    {
      "cell_type": "code",
      "source": [
        "print(True and False and False)"
      ],
      "metadata": {
        "colab": {
          "base_uri": "https://localhost:8080/"
        },
        "id": "ATJf7CdQUXG-",
        "outputId": "23346ecd-48b4-43f5-d8c7-261df1e88552"
      },
      "execution_count": null,
      "outputs": [
        {
          "output_type": "stream",
          "name": "stdout",
          "text": [
            "False\n"
          ]
        }
      ]
    },
    {
      "cell_type": "code",
      "source": [
        "print(\"True or True =\", True or True)\n",
        "print(\"True or False =\", True or False)\n",
        "print(\"False or True =\", False or True)\n",
        "print(\"False or False =\", False or False)"
      ],
      "metadata": {
        "id": "U3LZz6lmUXmM"
      },
      "execution_count": null,
      "outputs": []
    },
    {
      "cell_type": "code",
      "source": [
        "print(\"not True =\", not True)\n",
        "print(\"not False =\", not False)"
      ],
      "metadata": {
        "id": "XKxPtsUpUX3m"
      },
      "execution_count": null,
      "outputs": []
    },
    {
      "cell_type": "code",
      "source": [
        "name = input(\"whtas your name\")\n",
        "age = input(name + \"how old r u\")\n",
        "print(age + name)"
      ],
      "metadata": {
        "colab": {
          "base_uri": "https://localhost:8080/"
        },
        "id": "mWA3v0l0UYLJ",
        "outputId": "c90476bd-f999-4e6f-cc17-e94689a629d5"
      },
      "execution_count": null,
      "outputs": [
        {
          "output_type": "stream",
          "name": "stdout",
          "text": [
            "whtas your nameAli\n",
            "Alihow old r u15\n",
            "15Ali\n"
          ]
        }
      ]
    },
    {
      "cell_type": "code",
      "source": [
        "help()"
      ],
      "metadata": {
        "id": "0Js-1cxVUnaP"
      },
      "execution_count": null,
      "outputs": []
    },
    {
      "cell_type": "code",
      "source": [
        "celsius = 25\n",
        "if celsius > 20:\n",
        "  print('Good 🟩')"
      ],
      "metadata": {
        "colab": {
          "base_uri": "https://localhost:8080/"
        },
        "id": "mRCpNnHtUo67",
        "outputId": "1d24e3a4-8353-4fcb-9e5c-10b584f94e20"
      },
      "execution_count": null,
      "outputs": [
        {
          "output_type": "stream",
          "name": "stdout",
          "text": [
            "Good 🟩\n"
          ]
        }
      ]
    },
    {
      "cell_type": "code",
      "source": [
        "celsius = 18\n",
        "if celsius > 20:\n",
        "  print('Good 🟩')"
      ],
      "metadata": {
        "id": "-rJYXp66UpGY"
      },
      "execution_count": null,
      "outputs": []
    },
    {
      "cell_type": "code",
      "source": [
        "celsius = 18\n",
        "if celsius > 20:\n",
        "  print('Good 🟩')\n",
        "else:\n",
        "  print('Cold ❄️')"
      ],
      "metadata": {
        "id": "JRAQiuQjUpNn"
      },
      "execution_count": null,
      "outputs": []
    },
    {
      "cell_type": "code",
      "source": [
        "celsius = 32\n",
        "if celsius > 30:\n",
        "  print('Hot 🔥')\n",
        "if celsius > 20:\n",
        "  print('Good 🟩')\n",
        "else:\n",
        "  print('Cold ❄️')"
      ],
      "metadata": {
        "id": "m38Zb_ITUpQk"
      },
      "execution_count": null,
      "outputs": []
    },
    {
      "cell_type": "code",
      "source": [
        "celsius = 32\n",
        "if celsius > 30:\n",
        "  print('Hot 🔥')\n",
        "elif celsius > 20:\n",
        "  print('Good 🟩')\n",
        "else:\n",
        "  print('Cold ❄️')"
      ],
      "metadata": {
        "id": "Ok-EvjOeUpTp"
      },
      "execution_count": null,
      "outputs": []
    },
    {
      "cell_type": "code",
      "source": [
        "celsius = 32\n",
        "\n",
        "if celsius > 30:\n",
        "  print('Hot 🔥')\n",
        "elif 30 >= celsius > 20:\n",
        "  print('Good 🟩')\n",
        "elif -273 < celsius <= 20:\n",
        "  print('Cold ❄️')\n",
        "else:\n",
        "  print('Something went wrong!')"
      ],
      "metadata": {
        "id": "h3SeEdTqUpW6"
      },
      "execution_count": null,
      "outputs": []
    },
    {
      "cell_type": "code",
      "source": [
        "drivers_licence = True\n",
        "age = 17\n",
        "\n",
        "if age > 17:\n",
        "    if drivers_licence:\n",
        "        print('You can drive car')\n",
        "    else:\n",
        "        print('You need to go to a drivers licence course')\n",
        "else:\n",
        "    print('You need to get older')"
      ],
      "metadata": {
        "id": "xGxjMrpOUpZ6",
        "colab": {
          "base_uri": "https://localhost:8080/"
        },
        "outputId": "e195a3be-fd19-4398-9151-c619fb5fa983"
      },
      "execution_count": null,
      "outputs": [
        {
          "output_type": "stream",
          "name": "stdout",
          "text": [
            "You need to get older\n"
          ]
        }
      ]
    },
    {
      "cell_type": "code",
      "source": [
        "volcano_name = 'allsexpositionsarefine'\n",
        "\n",
        "for i in volcano_name:\n",
        "  print(i)\n",
        "print('Loop is completed')"
      ],
      "metadata": {
        "id": "8eYZdQKaUpdE"
      },
      "execution_count": null,
      "outputs": []
    },
    {
      "cell_type": "code",
      "source": [
        "numbers = [1, 2, 3, 4, 5, 6, 7, 8, 9,10]\n",
        "for i in numbers:\n",
        "  print(i)\n",
        "\n",
        "print('Loop is completed')"
      ],
      "metadata": {
        "id": "L4gxS4EsUpfy"
      },
      "execution_count": null,
      "outputs": []
    },
    {
      "cell_type": "code",
      "source": [
        "for i in range(5,21):\n",
        "  print(i)\n",
        "print('Loop is completed')"
      ],
      "metadata": {
        "id": "CtSMsPi5UpjS"
      },
      "execution_count": null,
      "outputs": []
    },
    {
      "cell_type": "code",
      "source": [
        "for i in range(1,101):\n",
        "  if i % 5 == 0:\n",
        "    print(i)\n",
        "\n",
        "print('Loop has been completed')"
      ],
      "metadata": {
        "id": "652Xbs5hUpl8"
      },
      "execution_count": null,
      "outputs": []
    },
    {
      "cell_type": "code",
      "source": [
        "celsius = 10\n",
        "\n",
        "if celsius > 30:\n",
        "  print('Hot 🔥')\n",
        "elif 30 >= celsius > 20:\n",
        "  print('Good 🟩')\n",
        "elif -273 < celsius <= 20:\n",
        "  print('Cold ❄️')\n",
        "else:\n",
        "  print('Something went wrong!')"
      ],
      "metadata": {
        "id": "rxnCNMPLUppD"
      },
      "execution_count": null,
      "outputs": []
    },
    {
      "cell_type": "code",
      "source": [
        "celcius = 10\n",
        "\n",
        "while celcius < 50:\n",
        "\n",
        "  if celcius > 30:\n",
        "    print('Hot 🔥')\n",
        "  elif 30 >= celcius > 20:\n",
        "    print('Good 🟩')\n",
        "  elif -273 < celcius <= 20:\n",
        "    print('Cold ❄️')\n",
        "  else:\n",
        "    print('Something went wrong!')"
      ],
      "metadata": {
        "id": "QwSycRn_9tnR"
      },
      "execution_count": null,
      "outputs": []
    },
    {
      "cell_type": "code",
      "source": [
        "celcius = 10\n",
        "\n",
        "while celcius < 50:\n",
        "\n",
        "  if celcius > 30:\n",
        "    print('Hot 🔥')\n",
        "  elif 30 >= celcius > 20:\n",
        "    print('Good 🟩')\n",
        "  elif -273 < celcius <= 20:\n",
        "    print('Cold ❄️')\n",
        "  else:\n",
        "    print('Something went wrong!')\n",
        "  celcius += 5"
      ],
      "metadata": {
        "id": "3kHDKumN9t0u"
      },
      "execution_count": null,
      "outputs": []
    },
    {
      "cell_type": "code",
      "source": [
        "celcius = 10\n",
        "\n",
        "while celcius < 50:\n",
        "\n",
        "  if celcius > 30:\n",
        "    print('Hot 🔥')\n",
        "  elif 30 >= celcius > 20:\n",
        "    print('Good 🟩')\n",
        "  elif -273 < celcius <= 20:\n",
        "    print('Cold ❄️')\n",
        "  else:\n",
        "    print('Something went wrong!')\n",
        "  print('The current temperature is',celcius)\n",
        "  celcius += 5"
      ],
      "metadata": {
        "id": "yMdJsqMo9t5q"
      },
      "execution_count": null,
      "outputs": []
    },
    {
      "cell_type": "code",
      "source": [
        "import time\n",
        "celcius = 10\n",
        "\n",
        "while celcius < 50:\n",
        "\n",
        "  if celcius > 30:\n",
        "    print('Hot 🔥')\n",
        "  elif 30 >= celcius > 20:\n",
        "    print('Good 🟩')\n",
        "  elif -273 < celcius <= 20:\n",
        "    print('Cold ❄️')\n",
        "  else:\n",
        "    print('Something went wrong!')\n",
        "  print('The current temperature is',celcius)\n",
        "  celcius += 5\n",
        "  time.sleep(1)"
      ],
      "metadata": {
        "id": "iYJW1Dbl9t8T"
      },
      "execution_count": null,
      "outputs": []
    },
    {
      "cell_type": "code",
      "source": [
        "while True:\n",
        "  print('I love you!')"
      ],
      "metadata": {
        "id": "H5l0AK4N9t_L"
      },
      "execution_count": null,
      "outputs": []
    },
    {
      "cell_type": "code",
      "source": [
        "import time\n",
        "counter = 0\n",
        "\n",
        "while counter >= 0:\n",
        "  counter += 1\n",
        "\n",
        "  print(counter)\n",
        "  time.sleep(1)"
      ],
      "metadata": {
        "id": "4dKz-bC-9uCJ"
      },
      "execution_count": null,
      "outputs": []
    },
    {
      "cell_type": "code",
      "source": [
        "import random\n",
        "while True:\n",
        "\n",
        "    random_number = random.randrange(1000)\n",
        "    print(random_number)\n",
        "\n",
        "    if random_number == 777:\n",
        "        print('Found!')\n",
        "        break"
      ],
      "metadata": {
        "id": "y3SlA9G9-57z"
      },
      "execution_count": null,
      "outputs": []
    },
    {
      "cell_type": "code",
      "source": [
        "names = ['Max', 'Felix', 'Deniz', 'Selin', 'Lucas', 26, 'Sarah']\n",
        "\n",
        "for name in names:\n",
        "\n",
        "    if type(name) != str:\n",
        "        print('Found', name)\n",
        "        break\n",
        "\n",
        "    else:\n",
        "        print(name, 'is a string!')"
      ],
      "metadata": {
        "id": "pK9aaEt0-5-o"
      },
      "execution_count": null,
      "outputs": []
    },
    {
      "cell_type": "code",
      "source": [
        "x = True\n",
        "y = False\n",
        "z = False\n",
        "\n",
        "if not x or y:\n",
        "  print(1)\n",
        "elif not x or not y and z:\n",
        "  primnt(2)\n",
        "elif not x or y or not y and x:\n",
        "  print(3)\n",
        "else:\n",
        "  print(4)"
      ],
      "metadata": {
        "id": "bDut3GSJ-8nl",
        "colab": {
          "base_uri": "https://localhost:8080/"
        },
        "outputId": "fcbb3d55-3655-47f8-d88a-c81e64c80625"
      },
      "execution_count": null,
      "outputs": [
        {
          "output_type": "stream",
          "name": "stdout",
          "text": [
            "3\n"
          ]
        }
      ]
    },
    {
      "cell_type": "code",
      "source": [
        "number = '15'\n",
        "print('Type of number before int() function: ', type(number))\n",
        "\n",
        "number = int(number)\n",
        "\n",
        "print('Type of number after int() function: ', type(number))"
      ],
      "metadata": {
        "id": "H2PvwSuh-9G6"
      },
      "execution_count": null,
      "outputs": []
    },
    {
      "cell_type": "code",
      "source": [
        "def hello(name):\n",
        "  print('Hello', name)"
      ],
      "metadata": {
        "id": "Ib-RJ8HWGq8c"
      },
      "execution_count": null,
      "outputs": []
    },
    {
      "cell_type": "code",
      "source": [
        "hello('Deniz')"
      ],
      "metadata": {
        "id": "vpgcYNS0GrDg"
      },
      "execution_count": null,
      "outputs": []
    },
    {
      "cell_type": "code",
      "source": [
        "def sum(number1, number2):\n",
        "  print(number1 + number2)"
      ],
      "metadata": {
        "id": "j_9OkwtbGrHi"
      },
      "execution_count": null,
      "outputs": []
    },
    {
      "cell_type": "code",
      "source": [
        "sum(3, 5)"
      ],
      "metadata": {
        "id": "V9YgtpqPGrKh"
      },
      "execution_count": null,
      "outputs": []
    },
    {
      "cell_type": "code",
      "source": [
        "result = sum(3, 5)\n",
        "print(result)"
      ],
      "metadata": {
        "id": "rfRdOc-WGrN0"
      },
      "execution_count": null,
      "outputs": []
    },
    {
      "cell_type": "code",
      "source": [
        "def sum(number1, number2):\n",
        "  answer = number1 + number2\n",
        "  return answer\n",
        "\n",
        "result = sum(3, 5)\n",
        "print(result)"
      ],
      "metadata": {
        "id": "lPnSrJHeGrgC"
      },
      "execution_count": null,
      "outputs": []
    },
    {
      "cell_type": "code",
      "source": [
        "def argument_printer(arg_position1, arg_position2):\n",
        "   print('Argument at position 1:', arg_position1)\n",
        "   print('Argument at position 2:', arg_position2)"
      ],
      "metadata": {
        "id": "MCOt5g0tGrjn"
      },
      "execution_count": null,
      "outputs": []
    },
    {
      "cell_type": "code",
      "source": [
        "argument_printer('value 1', 'value 2')"
      ],
      "metadata": {
        "id": "bSGAcMvBLK3I"
      },
      "execution_count": null,
      "outputs": []
    },
    {
      "cell_type": "code",
      "source": [
        "argument_printer()"
      ],
      "metadata": {
        "id": "DXkS6B_ELK7J"
      },
      "execution_count": null,
      "outputs": []
    },
    {
      "cell_type": "code",
      "source": [
        "def greetings(first_name, last_name, auto_correction):\n",
        "  if auto_correction == True:\n",
        "    capitalized_first_name = first_name.capitalize()\n",
        "    capitalized_last_name = last_name.capitalize()\n",
        "    print(\"Hello,\", capitalized_first_name, capitalized_last_name)\n",
        "  else:\n",
        "    print(\"Hello,\", first_name, last_name)"
      ],
      "metadata": {
        "id": "SV9zd6cCLK-f"
      },
      "execution_count": null,
      "outputs": []
    },
    {
      "cell_type": "code",
      "source": [
        "greetings('deNiZ', 'kaYa', True)"
      ],
      "metadata": {
        "id": "ujIhGnPQLLBd"
      },
      "execution_count": null,
      "outputs": []
    },
    {
      "cell_type": "code",
      "source": [
        "greetings('deNiZ', 'kaYa', False)"
      ],
      "metadata": {
        "id": "wOHE719jLLEK"
      },
      "execution_count": null,
      "outputs": []
    },
    {
      "cell_type": "code",
      "source": [
        "def greetings(first_name, last_name, auto_correction = True):\n",
        "  if auto_correction == True:\n",
        "    capitalized_first_name = first_name.capitalize()\n",
        "    capitalized_last_name = last_name.capitalize()\n",
        "    print(\"Hello,\", capitalized_first_name, capitalized_last_name)\n",
        "  else:\n",
        "    print(\"Hello,\", first_name, last_name)"
      ],
      "metadata": {
        "id": "8TcBFoHbLLWs"
      },
      "execution_count": null,
      "outputs": []
    },
    {
      "cell_type": "code",
      "source": [
        "greetings('deNiz', 'kAYa')"
      ],
      "metadata": {
        "id": "SCHH8qp3LhPB"
      },
      "execution_count": null,
      "outputs": []
    },
    {
      "cell_type": "code",
      "source": [
        "def car(brand, model, colour):\n",
        "    print('My favourite car is the', brand, model, 'in the colour', colour)"
      ],
      "metadata": {
        "id": "blLomJGaLhS2"
      },
      "execution_count": null,
      "outputs": []
    },
    {
      "cell_type": "code",
      "source": [
        "car('Audi', 'R8', 'black')"
      ],
      "metadata": {
        "id": "23ar48RpLhV0"
      },
      "execution_count": null,
      "outputs": []
    },
    {
      "cell_type": "code",
      "source": [
        "car(colour = 'black', model = 'R8', brand = 'Audi')"
      ],
      "metadata": {
        "id": "3bqpbGucLhY0"
      },
      "execution_count": null,
      "outputs": []
    },
    {
      "cell_type": "code",
      "source": [
        "car(colour = 'Audi', model = 'R8', 'black')"
      ],
      "metadata": {
        "id": "l6MQNlf4LhbP"
      },
      "execution_count": null,
      "outputs": []
    },
    {
      "cell_type": "code",
      "source": [
        "number = 13 #Global Variable\n",
        "\n",
        "def change_number():\n",
        " number = 4 #Local Variable\n",
        "\n",
        "change_number()\n",
        "print(number)"
      ],
      "metadata": {
        "id": "xF6uWlkYLLZ8"
      },
      "execution_count": null,
      "outputs": []
    },
    {
      "cell_type": "code",
      "source": [
        "#number = 13\n",
        "\n",
        "def change_number():\n",
        " num = 4\n",
        "\n",
        "change_number()\n",
        "print(num)"
      ],
      "metadata": {
        "id": "Pjz0oMRwLLcs"
      },
      "execution_count": null,
      "outputs": []
    },
    {
      "cell_type": "code",
      "source": [
        "number = 13\n",
        "\n",
        "def change_number():\n",
        " global number\n",
        " number = 4\n",
        "\n",
        "change_number()\n",
        "print(number)"
      ],
      "metadata": {
        "id": "I4Hsr04HLxP6"
      },
      "execution_count": null,
      "outputs": []
    },
    {
      "cell_type": "code",
      "source": [],
      "metadata": {
        "id": "VzFq89FQLxTX"
      },
      "execution_count": null,
      "outputs": []
    },
    {
      "cell_type": "code",
      "source": [],
      "metadata": {
        "id": "_9Yit37xLxWo"
      },
      "execution_count": null,
      "outputs": []
    },
    {
      "cell_type": "code",
      "source": [],
      "metadata": {
        "id": "3TJB8y9HLxZ1"
      },
      "execution_count": null,
      "outputs": []
    },
    {
      "cell_type": "code",
      "source": [],
      "metadata": {
        "id": "vbqykR7_LxcZ"
      },
      "execution_count": null,
      "outputs": []
    },
    {
      "cell_type": "code",
      "source": [],
      "metadata": {
        "id": "gpHx5UFC-9gj"
      },
      "execution_count": null,
      "outputs": []
    }
  ]
}